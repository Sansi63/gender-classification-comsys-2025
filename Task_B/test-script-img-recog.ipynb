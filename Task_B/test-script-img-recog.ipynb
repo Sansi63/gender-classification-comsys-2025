{
 "cells": [
  {
   "cell_type": "code",
   "execution_count": 1,
   "id": "3b58a95a",
   "metadata": {
    "execution": {
     "iopub.execute_input": "2025-07-02T07:23:03.353828Z",
     "iopub.status.busy": "2025-07-02T07:23:03.353606Z",
     "iopub.status.idle": "2025-07-02T07:23:11.830355Z",
     "shell.execute_reply": "2025-07-02T07:23:11.825940Z"
    },
    "papermill": {
     "duration": 8.486611,
     "end_time": "2025-07-02T07:23:11.832457",
     "exception": false,
     "start_time": "2025-07-02T07:23:03.345846",
     "status": "completed"
    },
    "tags": []
   },
   "outputs": [
    {
     "name": "stdout",
     "output_type": "stream",
     "text": [
      "Collecting deepface\r\n"
     ]
    },
    {
     "name": "stdout",
     "output_type": "stream",
     "text": [
      "  Downloading deepface-0.0.93-py3-none-any.whl (108 kB)\r\n",
      "\u001b[?25l     \u001b[90m━━━━━━━━━━━━━━━━━━━━━━━━━━━━━━━━━━━━━━━━\u001b[0m \u001b[32m0.0/108.6 kB\u001b[0m \u001b[31m?\u001b[0m eta \u001b[36m-:--:--\u001b[0m"
     ]
    },
    {
     "name": "stdout",
     "output_type": "stream",
     "text": [
      "\r",
      "\u001b[2K     \u001b[90m━━━━━━━━━━━━━━━━━━━━━━━━━━━━━━━━━━━━━━━\u001b[0m \u001b[32m108.6/108.6 kB\u001b[0m \u001b[31m3.0 MB/s\u001b[0m eta \u001b[36m0:00:00\u001b[0m\r\n",
      "\u001b[?25hRequirement already satisfied: opencv-python>=4.5.5.64 in /usr/local/lib/python3.10/site-packages (from deepface) (4.11.0.86)\r\n",
      "Collecting mtcnn>=0.1.0\r\n"
     ]
    },
    {
     "name": "stdout",
     "output_type": "stream",
     "text": [
      "  Downloading mtcnn-1.0.0-py3-none-any.whl (1.9 MB)\r\n",
      "\u001b[?25l     \u001b[90m━━━━━━━━━━━━━━━━━━━━━━━━━━━━━━━━━━━━━━━━\u001b[0m \u001b[32m0.0/1.9 MB\u001b[0m \u001b[31m?\u001b[0m eta \u001b[36m-:--:--\u001b[0m"
     ]
    },
    {
     "name": "stdout",
     "output_type": "stream",
     "text": [
      "\r",
      "\u001b[2K     \u001b[91m━━━━━━━━━━━━━━━━━━\u001b[0m\u001b[90m╺\u001b[0m\u001b[90m━━━━━━━━━━━━━━━━━━━━━\u001b[0m \u001b[32m0.9/1.9 MB\u001b[0m \u001b[31m28.3 MB/s\u001b[0m eta \u001b[36m0:00:01\u001b[0m\r",
      "\u001b[2K     \u001b[90m━━━━━━━━━━━━━━━━━━━━━━━━━━━━━━━━━━━━━━━━\u001b[0m \u001b[32m1.9/1.9 MB\u001b[0m \u001b[31m28.1 MB/s\u001b[0m eta \u001b[36m0:00:00\u001b[0m\r\n",
      "\u001b[?25hRequirement already satisfied: keras>=2.2.0 in /usr/local/lib/python3.10/site-packages (from deepface) (3.9.2)\r\n"
     ]
    },
    {
     "name": "stdout",
     "output_type": "stream",
     "text": [
      "Collecting flask-cors>=4.0.1\r\n",
      "  Downloading flask_cors-6.0.1-py3-none-any.whl (13 kB)\r\n"
     ]
    },
    {
     "name": "stdout",
     "output_type": "stream",
     "text": [
      "Requirement already satisfied: numpy>=1.14.0 in /usr/local/lib/python3.10/site-packages (from deepface) (2.0.2)\r\n",
      "Requirement already satisfied: requests>=2.27.1 in /usr/local/lib/python3.10/site-packages (from deepface) (2.32.3)\r\n",
      "Collecting fire>=0.4.0\r\n",
      "  Downloading fire-0.7.0.tar.gz (87 kB)\r\n"
     ]
    },
    {
     "name": "stdout",
     "output_type": "stream",
     "text": [
      "\u001b[?25l     \u001b[90m━━━━━━━━━━━━━━━━━━━━━━━━━━━━━━━━━━━━━━━━\u001b[0m \u001b[32m0.0/87.2 kB\u001b[0m \u001b[31m?\u001b[0m eta \u001b[36m-:--:--\u001b[0m\r",
      "\u001b[2K     \u001b[90m━━━━━━━━━━━━━━━━━━━━━━━━━━━━━━━━━━━━━━━━\u001b[0m \u001b[32m87.2/87.2 kB\u001b[0m \u001b[31m10.9 MB/s\u001b[0m eta \u001b[36m0:00:00\u001b[0m\r\n",
      "\u001b[?25h"
     ]
    },
    {
     "name": "stdout",
     "output_type": "stream",
     "text": [
      "  Preparing metadata (setup.py) ... \u001b[?25l-"
     ]
    },
    {
     "name": "stdout",
     "output_type": "stream",
     "text": [
      "\b \b\\\b \bdone\r\n",
      "\u001b[?25hRequirement already satisfied: tensorflow>=1.9.0 in /usr/local/lib/python3.10/site-packages (from deepface) (2.18.1)\r\n"
     ]
    },
    {
     "name": "stdout",
     "output_type": "stream",
     "text": [
      "Collecting gunicorn>=20.1.0\r\n"
     ]
    },
    {
     "name": "stdout",
     "output_type": "stream",
     "text": [
      "  Downloading gunicorn-23.0.0-py3-none-any.whl (85 kB)\r\n",
      "\u001b[?25l     \u001b[90m━━━━━━━━━━━━━━━━━━━━━━━━━━━━━━━━━━━━━━━━\u001b[0m \u001b[32m0.0/85.0 kB\u001b[0m \u001b[31m?\u001b[0m eta \u001b[36m-:--:--\u001b[0m\r",
      "\u001b[2K     \u001b[90m━━━━━━━━━━━━━━━━━━━━━━━━━━━━━━━━━━━━━━━━\u001b[0m \u001b[32m85.0/85.0 kB\u001b[0m \u001b[31m9.9 MB/s\u001b[0m eta \u001b[36m0:00:00\u001b[0m\r\n",
      "\u001b[?25hRequirement already satisfied: tqdm>=4.30.0 in /usr/local/lib/python3.10/site-packages (from deepface) (4.67.1)\r\n",
      "Requirement already satisfied: pandas>=0.23.4 in /usr/local/lib/python3.10/site-packages (from deepface) (2.2.3)\r\n",
      "Requirement already satisfied: Pillow>=5.2.0 in /usr/local/lib/python3.10/site-packages (from deepface) (11.2.1)\r\n"
     ]
    },
    {
     "name": "stdout",
     "output_type": "stream",
     "text": [
      "Collecting Flask>=1.1.2\r\n",
      "  Downloading flask-3.1.1-py3-none-any.whl (103 kB)\r\n",
      "\u001b[?25l     \u001b[90m━━━━━━━━━━━━━━━━━━━━━━━━━━━━━━━━━━━━━━━━\u001b[0m \u001b[32m0.0/103.3 kB\u001b[0m \u001b[31m?\u001b[0m eta \u001b[36m-:--:--\u001b[0m\r",
      "\u001b[2K     \u001b[90m━━━━━━━━━━━━━━━━━━━━━━━━━━━━━━━━━━━━━━\u001b[0m \u001b[32m103.3/103.3 kB\u001b[0m \u001b[31m12.7 MB/s\u001b[0m eta \u001b[36m0:00:00\u001b[0m\r\n",
      "\u001b[?25h"
     ]
    },
    {
     "name": "stdout",
     "output_type": "stream",
     "text": [
      "Collecting gdown>=3.10.1\r\n",
      "  Downloading gdown-5.2.0-py3-none-any.whl (18 kB)\r\n"
     ]
    },
    {
     "name": "stdout",
     "output_type": "stream",
     "text": [
      "Collecting retina-face>=0.0.1\r\n"
     ]
    },
    {
     "name": "stdout",
     "output_type": "stream",
     "text": [
      "  Downloading retina_face-0.0.17-py3-none-any.whl (25 kB)\r\n",
      "Requirement already satisfied: termcolor in /usr/local/lib/python3.10/site-packages (from fire>=0.4.0->deepface) (3.1.0)\r\n",
      "Requirement already satisfied: werkzeug>=3.1.0 in /usr/local/lib/python3.10/site-packages (from Flask>=1.1.2->deepface) (3.1.3)\r\n",
      "Requirement already satisfied: jinja2>=3.1.2 in /usr/local/lib/python3.10/site-packages (from Flask>=1.1.2->deepface) (3.1.6)\r\n",
      "Requirement already satisfied: markupsafe>=2.1.1 in /usr/local/lib/python3.10/site-packages (from Flask>=1.1.2->deepface) (3.0.2)\r\n",
      "Requirement already satisfied: click>=8.1.3 in /usr/local/lib/python3.10/site-packages (from Flask>=1.1.2->deepface) (8.1.8)\r\n"
     ]
    },
    {
     "name": "stdout",
     "output_type": "stream",
     "text": [
      "Collecting itsdangerous>=2.2.0\r\n",
      "  Downloading itsdangerous-2.2.0-py3-none-any.whl (16 kB)\r\n"
     ]
    },
    {
     "name": "stdout",
     "output_type": "stream",
     "text": [
      "Collecting blinker>=1.9.0\r\n",
      "  Downloading blinker-1.9.0-py3-none-any.whl (8.5 kB)\r\n"
     ]
    },
    {
     "name": "stdout",
     "output_type": "stream",
     "text": [
      "Requirement already satisfied: filelock in /usr/local/lib/python3.10/site-packages (from gdown>=3.10.1->deepface) (3.18.0)\r\n",
      "Requirement already satisfied: beautifulsoup4 in /usr/local/lib/python3.10/site-packages (from gdown>=3.10.1->deepface) (4.13.4)\r\n",
      "Requirement already satisfied: packaging in /usr/local/lib/python3.10/site-packages (from gunicorn>=20.1.0->deepface) (25.0)\r\n",
      "Requirement already satisfied: rich in /usr/local/lib/python3.10/site-packages (from keras>=2.2.0->deepface) (14.0.0)\r\n",
      "Requirement already satisfied: namex in /usr/local/lib/python3.10/site-packages (from keras>=2.2.0->deepface) (0.0.9)\r\n",
      "Requirement already satisfied: optree in /usr/local/lib/python3.10/site-packages (from keras>=2.2.0->deepface) (0.15.0)\r\n",
      "Requirement already satisfied: h5py in /usr/local/lib/python3.10/site-packages (from keras>=2.2.0->deepface) (3.13.0)\r\n",
      "Requirement already satisfied: ml-dtypes in /usr/local/lib/python3.10/site-packages (from keras>=2.2.0->deepface) (0.4.1)\r\n",
      "Requirement already satisfied: absl-py in /usr/local/lib/python3.10/site-packages (from keras>=2.2.0->deepface) (2.2.2)\r\n",
      "Requirement already satisfied: joblib>=1.4.2 in /usr/local/lib/python3.10/site-packages (from mtcnn>=0.1.0->deepface) (1.5.0)\r\n"
     ]
    },
    {
     "name": "stdout",
     "output_type": "stream",
     "text": [
      "Collecting lz4>=4.3.3\r\n"
     ]
    },
    {
     "name": "stdout",
     "output_type": "stream",
     "text": [
      "  Downloading lz4-4.4.4-cp310-cp310-manylinux_2_17_x86_64.manylinux2014_x86_64.whl (1.3 MB)\r\n",
      "\u001b[?25l     \u001b[90m━━━━━━━━━━━━━━━━━━━━━━━━━━━━━━━━━━━━━━━━\u001b[0m \u001b[32m0.0/1.3 MB\u001b[0m \u001b[31m?\u001b[0m eta \u001b[36m-:--:--\u001b[0m\r",
      "\u001b[2K     \u001b[90m━━━━━━━━━━━━━━━━━━━━━━━━━━━━━━━━━━━━━━━━\u001b[0m \u001b[32m1.3/1.3 MB\u001b[0m \u001b[31m48.2 MB/s\u001b[0m eta \u001b[36m0:00:00\u001b[0m\r\n",
      "\u001b[?25h"
     ]
    },
    {
     "name": "stdout",
     "output_type": "stream",
     "text": [
      "Requirement already satisfied: tzdata>=2022.7 in /usr/local/lib/python3.10/site-packages (from pandas>=0.23.4->deepface) (2025.2)\r\n",
      "Requirement already satisfied: python-dateutil>=2.8.2 in /usr/local/lib/python3.10/site-packages (from pandas>=0.23.4->deepface) (2.9.0.post0)\r\n",
      "Requirement already satisfied: pytz>=2020.1 in /usr/local/lib/python3.10/site-packages (from pandas>=0.23.4->deepface) (2025.2)\r\n",
      "Requirement already satisfied: certifi>=2017.4.17 in /usr/local/lib/python3.10/site-packages (from requests>=2.27.1->deepface) (2025.4.26)\r\n",
      "Requirement already satisfied: idna<4,>=2.5 in /usr/local/lib/python3.10/site-packages (from requests>=2.27.1->deepface) (3.10)\r\n",
      "Requirement already satisfied: urllib3<3,>=1.21.1 in /usr/local/lib/python3.10/site-packages (from requests>=2.27.1->deepface) (2.4.0)\r\n",
      "Requirement already satisfied: charset-normalizer<4,>=2 in /usr/local/lib/python3.10/site-packages (from requests>=2.27.1->deepface) (3.4.2)\r\n"
     ]
    },
    {
     "name": "stdout",
     "output_type": "stream",
     "text": [
      "Requirement already satisfied: typing-extensions>=3.6.6 in /usr/local/lib/python3.10/site-packages (from tensorflow>=1.9.0->deepface) (4.13.2)\r\n",
      "Requirement already satisfied: six>=1.12.0 in /usr/local/lib/python3.10/site-packages (from tensorflow>=1.9.0->deepface) (1.17.0)\r\n",
      "Requirement already satisfied: protobuf!=4.21.0,!=4.21.1,!=4.21.2,!=4.21.3,!=4.21.4,!=4.21.5,<6.0.0dev,>=3.20.3 in /usr/local/lib/python3.10/site-packages (from tensorflow>=1.9.0->deepface) (5.29.4)\r\n",
      "Requirement already satisfied: grpcio<2.0,>=1.24.3 in /usr/local/lib/python3.10/site-packages (from tensorflow>=1.9.0->deepface) (1.72.0rc1)\r\n",
      "Requirement already satisfied: libclang>=13.0.0 in /usr/local/lib/python3.10/site-packages (from tensorflow>=1.9.0->deepface) (18.1.1)\r\n",
      "Requirement already satisfied: flatbuffers>=24.3.25 in /usr/local/lib/python3.10/site-packages (from tensorflow>=1.9.0->deepface) (25.2.10)\r\n",
      "Requirement already satisfied: astunparse>=1.6.0 in /usr/local/lib/python3.10/site-packages (from tensorflow>=1.9.0->deepface) (1.6.3)\r\n",
      "Requirement already satisfied: tensorboard<2.19,>=2.18 in /usr/local/lib/python3.10/site-packages (from tensorflow>=1.9.0->deepface) (2.18.0)\r\n",
      "Requirement already satisfied: gast!=0.5.0,!=0.5.1,!=0.5.2,>=0.2.1 in /usr/local/lib/python3.10/site-packages (from tensorflow>=1.9.0->deepface) (0.6.0)\r\n",
      "Requirement already satisfied: google-pasta>=0.1.1 in /usr/local/lib/python3.10/site-packages (from tensorflow>=1.9.0->deepface) (0.2.0)\r\n",
      "Requirement already satisfied: opt-einsum>=2.3.2 in /usr/local/lib/python3.10/site-packages (from tensorflow>=1.9.0->deepface) (3.4.0)\r\n",
      "Requirement already satisfied: setuptools in /usr/local/lib/python3.10/site-packages (from tensorflow>=1.9.0->deepface) (80.3.1)\r\n",
      "Requirement already satisfied: tensorflow-io-gcs-filesystem>=0.23.1 in /usr/local/lib/python3.10/site-packages (from tensorflow>=1.9.0->deepface) (0.37.1)\r\n",
      "Requirement already satisfied: wrapt>=1.11.0 in /usr/local/lib/python3.10/site-packages (from tensorflow>=1.9.0->deepface) (1.17.2)\r\n"
     ]
    },
    {
     "name": "stdout",
     "output_type": "stream",
     "text": [
      "Requirement already satisfied: wheel<1.0,>=0.23.0 in /usr/local/lib/python3.10/site-packages (from astunparse>=1.6.0->tensorflow>=1.9.0->deepface) (0.45.1)\r\n"
     ]
    },
    {
     "name": "stdout",
     "output_type": "stream",
     "text": [
      "Requirement already satisfied: tensorboard-data-server<0.8.0,>=0.7.0 in /usr/local/lib/python3.10/site-packages (from tensorboard<2.19,>=2.18->tensorflow>=1.9.0->deepface) (0.7.2)\r\n",
      "Requirement already satisfied: markdown>=2.6.8 in /usr/local/lib/python3.10/site-packages (from tensorboard<2.19,>=2.18->tensorflow>=1.9.0->deepface) (3.8)\r\n"
     ]
    },
    {
     "name": "stdout",
     "output_type": "stream",
     "text": [
      "Requirement already satisfied: soupsieve>1.2 in /usr/local/lib/python3.10/site-packages (from beautifulsoup4->gdown>=3.10.1->deepface) (2.7)\r\n"
     ]
    },
    {
     "name": "stdout",
     "output_type": "stream",
     "text": [
      "Collecting PySocks!=1.5.7,>=1.5.6\r\n",
      "  Downloading PySocks-1.7.1-py3-none-any.whl (16 kB)\r\n"
     ]
    },
    {
     "name": "stdout",
     "output_type": "stream",
     "text": [
      "Requirement already satisfied: markdown-it-py>=2.2.0 in /usr/local/lib/python3.10/site-packages (from rich->keras>=2.2.0->deepface) (3.0.0)\r\n",
      "Requirement already satisfied: pygments<3.0.0,>=2.13.0 in /usr/local/lib/python3.10/site-packages (from rich->keras>=2.2.0->deepface) (2.19.1)\r\n",
      "Requirement already satisfied: mdurl~=0.1 in /usr/local/lib/python3.10/site-packages (from markdown-it-py>=2.2.0->rich->keras>=2.2.0->deepface) (0.1.2)\r\n"
     ]
    },
    {
     "name": "stdout",
     "output_type": "stream",
     "text": [
      "Building wheels for collected packages: fire\r\n"
     ]
    },
    {
     "name": "stdout",
     "output_type": "stream",
     "text": [
      "  Building wheel for fire (setup.py) ... \u001b[?25l-"
     ]
    },
    {
     "name": "stdout",
     "output_type": "stream",
     "text": [
      "\b \b\\"
     ]
    },
    {
     "name": "stdout",
     "output_type": "stream",
     "text": [
      "\b \b|"
     ]
    },
    {
     "name": "stdout",
     "output_type": "stream",
     "text": [
      "\b \bdone\r\n",
      "\u001b[?25h  Created wheel for fire: filename=fire-0.7.0-py3-none-any.whl size=114330 sha256=6aa2d2c82e98428ffe15114823e5c8770b7ed124edc534aed24523f67ce97554\r\n",
      "  Stored in directory: /root/.cache/pip/wheels/19/39/2f/2d3cadc408a8804103f1c34ddd4b9f6a93497b11fa96fe738e\r\n",
      "Successfully built fire\r\n"
     ]
    },
    {
     "name": "stdout",
     "output_type": "stream",
     "text": [
      "Installing collected packages: PySocks, lz4, itsdangerous, gunicorn, fire, blinker, mtcnn, Flask, gdown, flask-cors, retina-face, deepface\r\n"
     ]
    },
    {
     "name": "stdout",
     "output_type": "stream",
     "text": [
      "Successfully installed Flask-3.1.1 PySocks-1.7.1 blinker-1.9.0 deepface-0.0.93 fire-0.7.0 flask-cors-6.0.1 gdown-5.2.0 gunicorn-23.0.0 itsdangerous-2.2.0 lz4-4.4.4 mtcnn-1.0.0 retina-face-0.0.17\r\n",
      "\u001b[33mWARNING: Running pip as the 'root' user can result in broken permissions and conflicting behaviour with the system package manager. It is recommended to use a virtual environment instead: https://pip.pypa.io/warnings/venv\u001b[0m\u001b[33m\r\n",
      "\u001b[0m"
     ]
    },
    {
     "name": "stdout",
     "output_type": "stream",
     "text": [
      "\r\n",
      "\u001b[1m[\u001b[0m\u001b[34;49mnotice\u001b[0m\u001b[1;39;49m]\u001b[0m\u001b[39;49m A new release of pip is available: \u001b[0m\u001b[31;49m23.0.1\u001b[0m\u001b[39;49m -> \u001b[0m\u001b[32;49m25.1.1\u001b[0m\r\n",
      "\u001b[1m[\u001b[0m\u001b[34;49mnotice\u001b[0m\u001b[1;39;49m]\u001b[0m\u001b[39;49m To update, run: \u001b[0m\u001b[32;49mpip install --upgrade pip\u001b[0m\r\n"
     ]
    },
    {
     "name": "stdout",
     "output_type": "stream",
     "text": [
      "Note: you may need to restart the kernel to use updated packages.\n"
     ]
    }
   ],
   "source": [
    "pip install deepface"
   ]
  },
  {
   "cell_type": "code",
   "execution_count": 2,
   "id": "3c2bd6c7",
   "metadata": {
    "_cell_guid": "b1076dfc-b9ad-4769-8c92-a6c4dae69d19",
    "_uuid": "8f2839f25d086af736a60e9eeb907d3b93b6e0e5",
    "execution": {
     "iopub.execute_input": "2025-07-02T07:23:11.846069Z",
     "iopub.status.busy": "2025-07-02T07:23:11.845831Z",
     "iopub.status.idle": "2025-07-02T07:23:39.259787Z",
     "shell.execute_reply": "2025-07-02T07:23:39.255419Z"
    },
    "papermill": {
     "duration": 27.42439,
     "end_time": "2025-07-02T07:23:39.262236",
     "exception": false,
     "start_time": "2025-07-02T07:23:11.837846",
     "status": "completed"
    },
    "tags": []
   },
   "outputs": [
    {
     "name": "stderr",
     "output_type": "stream",
     "text": [
      "WARNING: Logging before InitGoogle() is written to STDERR\n",
      "E0000 00:00:1751441001.586058      74 common_lib.cc:612] Could not set metric server port: INVALID_ARGUMENT: Could not find SliceBuilder port 8471 in any of the 0 ports provided in `tpu_process_addresses`=\"local\"\n",
      "=== Source Location Trace: === \n",
      "learning/45eac/tfrc/runtime/common_lib.cc:230\n"
     ]
    },
    {
     "name": "stdout",
     "output_type": "stream",
     "text": [
      "25-07-02 07:23:37 - Directory /root/.deepface has been created\n"
     ]
    },
    {
     "name": "stdout",
     "output_type": "stream",
     "text": [
      "25-07-02 07:23:37 - Directory /root/.deepface/weights has been created\n"
     ]
    }
   ],
   "source": [
    "import os\n",
    "import numpy as np\n",
    "from deepface import DeepFace\n",
    "from sklearn.metrics import accuracy_score, precision_score, recall_score\n",
    "import tensorflow as tf\n",
    "import cv2"
   ]
  },
  {
   "cell_type": "code",
   "execution_count": 3,
   "id": "052070ec",
   "metadata": {
    "execution": {
     "iopub.execute_input": "2025-07-02T07:23:39.276470Z",
     "iopub.status.busy": "2025-07-02T07:23:39.276057Z",
     "iopub.status.idle": "2025-07-02T07:23:39.321744Z",
     "shell.execute_reply": "2025-07-02T07:23:39.316808Z"
    },
    "papermill": {
     "duration": 0.056586,
     "end_time": "2025-07-02T07:23:39.324265",
     "exception": false,
     "start_time": "2025-07-02T07:23:39.267679",
     "status": "completed"
    },
    "tags": []
   },
   "outputs": [],
   "source": [
    "# Define paths (adjust according to your dataset and model location)\n",
    "VAL_DATASET_PATH = \"/kaggle/input/validation/val\"  # Adjusted for nesting\n",
    "MODEL_PATH = \"/kaggle/input/facerecognizer/keras/default/1/siamese_face_matching.h5\"  # Default path; update if using a dataset\n",
    "if not os.path.exists(MODEL_PATH):\n",
    "    print(f\"Model not found at {MODEL_PATH}. Check path or regenerate model.\")\n",
    "    MODEL_PATH = \"../input/your-output-dataset/siamese_face_matching.h5\"  # Adjust this path if using a dataset\n",
    "IDENTITY_FOLDERS_VAL = [f for f in os.listdir(VAL_DATASET_PATH) if os.path.isdir(os.path.join(VAL_DATASET_PATH, f))]"
   ]
  },
  {
   "cell_type": "code",
   "execution_count": 4,
   "id": "fd5f477c",
   "metadata": {
    "execution": {
     "iopub.execute_input": "2025-07-02T07:23:39.337373Z",
     "iopub.status.busy": "2025-07-02T07:23:39.337163Z",
     "iopub.status.idle": "2025-07-02T07:23:39.353190Z",
     "shell.execute_reply": "2025-07-02T07:23:39.349090Z"
    },
    "papermill": {
     "duration": 0.026509,
     "end_time": "2025-07-02T07:23:39.355762",
     "exception": false,
     "start_time": "2025-07-02T07:23:39.329253",
     "status": "completed"
    },
    "tags": []
   },
   "outputs": [],
   "source": [
    "# Function to load clear and distorted images and extract embeddings\n",
    "def load_and_embed_images(folder_path):\n",
    "    clear_embeddings = []\n",
    "    clear_labels = []\n",
    "    distorted_embeddings = []\n",
    "    distorted_names = []\n",
    "    distorted_paths = []\n",
    "    \n",
    "    for identity in IDENTITY_FOLDERS_VAL:\n",
    "        if os.path.isdir(os.path.join(folder_path, identity)):\n",
    "            identity_path = os.path.join(folder_path, identity)\n",
    "            # Load clear reference image\n",
    "            clear_images = [f for f in os.listdir(identity_path) if f.endswith(('.jpg', '.jpeg', '.png')) and not os.path.isdir(os.path.join(identity_path, f))]\n",
    "            if clear_images:\n",
    "                clear_img_path = os.path.join(identity_path, clear_images[0])\n",
    "                try:\n",
    "                    clear_embedding_dicts = DeepFace.represent(clear_img_path, model_name=\"VGG-Face\", enforce_detection=False)\n",
    "                    if clear_embedding_dicts:  # Check if list is not empty\n",
    "                        clear_embedding = clear_embedding_dicts[0]['embedding']  # Take first embedding\n",
    "                        clear_embeddings.append(clear_embedding)  # Append as 1D array\n",
    "                        clear_labels.append(identity)\n",
    "                    else:\n",
    "                        print(f\"No embeddings found for clear image {clear_img_path}\")\n",
    "                except Exception as e:\n",
    "                    print(f\"Error processing clear image {clear_img_path}: {e}\")\n",
    "            \n",
    "            # Load distorted images from the nested distorted folder\n",
    "            distorted_folder = os.path.join(identity_path, \"distortion\")\n",
    "            if os.path.isdir(distorted_folder):\n",
    "                for dist_img_name in os.listdir(distorted_folder):\n",
    "                    dist_img_path = os.path.join(distorted_folder, dist_img_name)\n",
    "                    try:\n",
    "                        dist_embedding_dicts = DeepFace.represent(dist_img_path, model_name=\"VGG-Face\", enforce_detection=False)\n",
    "                        if dist_embedding_dicts:  # Check if list is not empty\n",
    "                            dist_embedding = dist_embedding_dicts[0]['embedding']  # Take first embedding\n",
    "                            distorted_embeddings.append(dist_embedding)  # Append as 1D array\n",
    "                            distorted_names.append(dist_img_name)\n",
    "                            distorted_paths.append(dist_img_path)\n",
    "                        else:\n",
    "                            print(f\"No embeddings found for distorted image {dist_img_path}\")\n",
    "                    except Exception as e:\n",
    "                        print(f\"Error processing distorted image {dist_img_path}: {e}\")\n",
    "    \n",
    "    # Convert to 2D arrays, ensuring consistent shape\n",
    "    clear_embeddings = np.array(clear_embeddings)\n",
    "    if clear_embeddings.size == 0:\n",
    "        clear_embeddings = np.array([]).reshape(0, 0)  # Handle empty array\n",
    "    elif clear_embeddings.ndim == 1:\n",
    "        clear_embeddings = clear_embeddings.reshape(-1, clear_embeddings.shape[0])\n",
    "    \n",
    "    distorted_embeddings = np.array(distorted_embeddings)\n",
    "    if distorted_embeddings.size == 0:\n",
    "        distorted_embeddings = np.array([]).reshape(0, 0)  # Handle empty array\n",
    "    elif distorted_embeddings.ndim == 1:\n",
    "        distorted_embeddings = distorted_embeddings.reshape(-1, distorted_embeddings.shape[0])\n",
    "    \n",
    "    return clear_embeddings, clear_labels, distorted_embeddings, distorted_names, distorted_paths"
   ]
  },
  {
   "cell_type": "code",
   "execution_count": 5,
   "id": "727d7f21",
   "metadata": {
    "execution": {
     "iopub.execute_input": "2025-07-02T07:23:39.369409Z",
     "iopub.status.busy": "2025-07-02T07:23:39.369199Z",
     "iopub.status.idle": "2025-07-02T07:23:39.378438Z",
     "shell.execute_reply": "2025-07-02T07:23:39.374325Z"
    },
    "papermill": {
     "duration": 0.020292,
     "end_time": "2025-07-02T07:23:39.381293",
     "exception": false,
     "start_time": "2025-07-02T07:23:39.361001",
     "status": "completed"
    },
    "tags": []
   },
   "outputs": [],
   "source": [
    "# Function to compute distance using the Siamese model\n",
    "def compute_distance(model, emb1, emb2):\n",
    "    return model.predict([np.array([emb1]), np.array([emb2])], verbose=0)[0][0]"
   ]
  },
  {
   "cell_type": "code",
   "execution_count": 6,
   "id": "cbf32733",
   "metadata": {
    "execution": {
     "iopub.execute_input": "2025-07-02T07:23:39.395071Z",
     "iopub.status.busy": "2025-07-02T07:23:39.394807Z",
     "iopub.status.idle": "2025-07-02T07:23:39.409115Z",
     "shell.execute_reply": "2025-07-02T07:23:39.404520Z"
    },
    "papermill": {
     "duration": 0.025267,
     "end_time": "2025-07-02T07:23:39.411832",
     "exception": false,
     "start_time": "2025-07-02T07:23:39.386565",
     "status": "completed"
    },
    "tags": []
   },
   "outputs": [],
   "source": [
    "# Main test function\n",
    "def main():\n",
    "    # Load the trained Siamese model\n",
    "    try:\n",
    "        siamese_model = tf.keras.models.load_model(MODEL_PATH, custom_objects={\"contrastive_loss\": lambda y_true, y_pred: y_pred})\n",
    "        print(f\"Model loaded successfully from {MODEL_PATH}\")\n",
    "    except Exception as e:\n",
    "        print(f\"Error loading model: {e}\")\n",
    "        return\n",
    "\n",
    "    # Load validation data\n",
    "    clear_embeddings, clear_labels, distorted_embeddings, distorted_names, distorted_paths = load_and_embed_images(VAL_DATASET_PATH)\n",
    "\n",
    "    # Perform matching\n",
    "    predictions = []\n",
    "    true_labels = []\n",
    "\n",
    "    for dist_emb, dist_name, dist_path in zip(distorted_embeddings, distorted_names, distorted_paths):\n",
    "        min_distance = float(\"inf\")\n",
    "        predicted_identity = None\n",
    "\n",
    "        for ref_emb, ref_label in zip(clear_embeddings, clear_labels):\n",
    "            distance = compute_distance(siamese_model, dist_emb, ref_emb)\n",
    "            if distance < min_distance:\n",
    "                min_distance = distance\n",
    "                predicted_identity = ref_label\n",
    "\n",
    "        # Determine true label from the parent folder name\n",
    "        true_label = os.path.basename(os.path.dirname(os.path.dirname(dist_path)))\n",
    "        match_label = 1 if predicted_identity == true_label else 0\n",
    "        predictions.append(match_label)\n",
    "        true_labels.append(1)  # Ground truth is 1 for correct match in verification\n",
    "\n",
    "        print(f\"Image: {dist_name}, Predicted Identity: {predicted_identity}, Distance: {min_distance:.4f}, Match: {match_label}\")\n",
    "\n",
    "    # Calculate metrics\n",
    "    accuracy = accuracy_score(true_labels, predictions)\n",
    "    precision = precision_score(true_labels, predictions, average=\"weighted\", zero_division=0)\n",
    "    recall = recall_score(true_labels, predictions, average=\"weighted\", zero_division=0)\n",
    "\n",
    "    print(\"\\nTest Results on Validation Set:\")\n",
    "    print(f\"Accuracy: {accuracy:.4f}\")\n",
    "    print(f\"Precision: {precision:.4f}\")\n",
    "    print(f\"Recall: {recall:.4f}\")"
   ]
  },
  {
   "cell_type": "code",
   "execution_count": 7,
   "id": "aeaeee56",
   "metadata": {
    "execution": {
     "iopub.execute_input": "2025-07-02T07:23:39.426380Z",
     "iopub.status.busy": "2025-07-02T07:23:39.426154Z",
     "iopub.status.idle": "2025-07-02T07:23:43.493268Z",
     "shell.execute_reply": "2025-07-02T07:23:43.489172Z"
    },
    "papermill": {
     "duration": 4.078363,
     "end_time": "2025-07-02T07:23:43.495827",
     "exception": false,
     "start_time": "2025-07-02T07:23:39.417464",
     "status": "completed"
    },
    "tags": []
   },
   "outputs": [
    {
     "name": "stderr",
     "output_type": "stream",
     "text": [
      "WARNING: All log messages before absl::InitializeLog() is called are written to STDERR\n",
      "I0000 00:00:1751441023.415391      74 service.cc:148] XLA service 0x570ff1c206f0 initialized for platform TPU (this does not guarantee that XLA will be used). Devices:\n",
      "I0000 00:00:1751441023.415436      74 service.cc:156]   StreamExecutor device (0): TPU, 2a886c8\n",
      "I0000 00:00:1751441023.415440      74 service.cc:156]   StreamExecutor device (1): TPU, 2a886c8\n",
      "I0000 00:00:1751441023.415442      74 service.cc:156]   StreamExecutor device (2): TPU, 2a886c8\n",
      "I0000 00:00:1751441023.415445      74 service.cc:156]   StreamExecutor device (3): TPU, 2a886c8\n",
      "I0000 00:00:1751441023.415448      74 service.cc:156]   StreamExecutor device (4): TPU, 2a886c8\n",
      "I0000 00:00:1751441023.415450      74 service.cc:156]   StreamExecutor device (5): TPU, 2a886c8\n",
      "I0000 00:00:1751441023.415453      74 service.cc:156]   StreamExecutor device (6): TPU, 2a886c8\n",
      "I0000 00:00:1751441023.415455      74 service.cc:156]   StreamExecutor de"
     ]
    },
    {
     "name": "stderr",
     "output_type": "stream",
     "text": [
      "vice (7): TPU, 2a886c8\n"
     ]
    },
    {
     "name": "stdout",
     "output_type": "stream",
     "text": [
      "Error loading model: bad marshal data (unknown type code)\n"
     ]
    }
   ],
   "source": [
    "if __name__ == \"__main__\":\n",
    "    main()"
   ]
  },
  {
   "cell_type": "code",
   "execution_count": null,
   "id": "723c9dc3",
   "metadata": {
    "papermill": {
     "duration": 0.005478,
     "end_time": "2025-07-02T07:23:43.506646",
     "exception": false,
     "start_time": "2025-07-02T07:23:43.501168",
     "status": "completed"
    },
    "tags": []
   },
   "outputs": [],
   "source": []
  },
  {
   "cell_type": "code",
   "execution_count": null,
   "id": "6608ff78",
   "metadata": {
    "papermill": {
     "duration": 0.00547,
     "end_time": "2025-07-02T07:23:43.517128",
     "exception": false,
     "start_time": "2025-07-02T07:23:43.511658",
     "status": "completed"
    },
    "tags": []
   },
   "outputs": [],
   "source": []
  },
  {
   "cell_type": "code",
   "execution_count": null,
   "id": "b2bdc2dc",
   "metadata": {
    "papermill": {
     "duration": 0.005207,
     "end_time": "2025-07-02T07:23:43.527437",
     "exception": false,
     "start_time": "2025-07-02T07:23:43.522230",
     "status": "completed"
    },
    "tags": []
   },
   "outputs": [],
   "source": []
  },
  {
   "cell_type": "code",
   "execution_count": null,
   "id": "8e7665f3",
   "metadata": {
    "papermill": {
     "duration": 0.005275,
     "end_time": "2025-07-02T07:23:43.537644",
     "exception": false,
     "start_time": "2025-07-02T07:23:43.532369",
     "status": "completed"
    },
    "tags": []
   },
   "outputs": [],
   "source": []
  },
  {
   "cell_type": "code",
   "execution_count": null,
   "id": "f948da2d",
   "metadata": {
    "papermill": {
     "duration": 0.005191,
     "end_time": "2025-07-02T07:23:43.547836",
     "exception": false,
     "start_time": "2025-07-02T07:23:43.542645",
     "status": "completed"
    },
    "tags": []
   },
   "outputs": [],
   "source": []
  },
  {
   "cell_type": "code",
   "execution_count": null,
   "id": "15fbe0d1",
   "metadata": {
    "papermill": {
     "duration": 0.005296,
     "end_time": "2025-07-02T07:23:43.557983",
     "exception": false,
     "start_time": "2025-07-02T07:23:43.552687",
     "status": "completed"
    },
    "tags": []
   },
   "outputs": [],
   "source": []
  },
  {
   "cell_type": "code",
   "execution_count": null,
   "id": "b95652a5",
   "metadata": {
    "papermill": {
     "duration": 0.005217,
     "end_time": "2025-07-02T07:23:43.568281",
     "exception": false,
     "start_time": "2025-07-02T07:23:43.563064",
     "status": "completed"
    },
    "tags": []
   },
   "outputs": [],
   "source": []
  },
  {
   "cell_type": "code",
   "execution_count": null,
   "id": "3682663e",
   "metadata": {
    "papermill": {
     "duration": 0.00523,
     "end_time": "2025-07-02T07:23:43.578519",
     "exception": false,
     "start_time": "2025-07-02T07:23:43.573289",
     "status": "completed"
    },
    "tags": []
   },
   "outputs": [],
   "source": []
  },
  {
   "cell_type": "code",
   "execution_count": null,
   "id": "ea84bf86",
   "metadata": {
    "papermill": {
     "duration": 0.005682,
     "end_time": "2025-07-02T07:23:43.589200",
     "exception": false,
     "start_time": "2025-07-02T07:23:43.583518",
     "status": "completed"
    },
    "tags": []
   },
   "outputs": [],
   "source": []
  },
  {
   "cell_type": "code",
   "execution_count": null,
   "id": "aa46da9a",
   "metadata": {
    "papermill": {
     "duration": 0.005755,
     "end_time": "2025-07-02T07:23:43.600813",
     "exception": false,
     "start_time": "2025-07-02T07:23:43.595058",
     "status": "completed"
    },
    "tags": []
   },
   "outputs": [],
   "source": []
  }
 ],
 "metadata": {
  "kaggle": {
   "accelerator": "none",
   "dataSources": [
    {
     "datasetId": 7766527,
     "sourceId": 12321276,
     "sourceType": "datasetVersion"
    },
    {
     "datasetId": 7766644,
     "sourceId": 12321445,
     "sourceType": "datasetVersion"
    },
    {
     "datasetId": 7766670,
     "sourceId": 12321485,
     "sourceType": "datasetVersion"
    },
    {
     "sourceId": 248317712,
     "sourceType": "kernelVersion"
    },
    {
     "modelId": 390374,
     "modelInstanceId": 369502,
     "sourceId": 455661,
     "sourceType": "modelInstanceVersion"
    }
   ],
   "dockerImageVersionId": 31041,
   "isGpuEnabled": false,
   "isInternetEnabled": true,
   "language": "python",
   "sourceType": "notebook"
  },
  "kernelspec": {
   "display_name": "Python 3",
   "language": "python",
   "name": "python3"
  },
  "language_info": {
   "codemirror_mode": {
    "name": "ipython",
    "version": 3
   },
   "file_extension": ".py",
   "mimetype": "text/x-python",
   "name": "python",
   "nbconvert_exporter": "python",
   "pygments_lexer": "ipython3",
   "version": "3.10.17"
  },
  "papermill": {
   "default_parameters": {},
   "duration": 46.833182,
   "end_time": "2025-07-02T07:23:46.886272",
   "environment_variables": {},
   "exception": null,
   "input_path": "__notebook__.ipynb",
   "output_path": "__notebook__.ipynb",
   "parameters": {},
   "start_time": "2025-07-02T07:23:00.053090",
   "version": "2.6.0"
  }
 },
 "nbformat": 4,
 "nbformat_minor": 5
}
